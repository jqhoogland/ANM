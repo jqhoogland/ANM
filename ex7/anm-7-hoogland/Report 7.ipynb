{
 "cells": [
  {
   "cell_type": "markdown",
   "metadata": {},
   "source": [
    "## Advanced Numerical  Methods in Many-Body Physics\n",
    "# Exercise 4\n",
    "### Jesse Hoogland \n",
    "\n",
    "--- \n",
    "Note: most of the actual computational logic is in the file `heisenberg.py` included in this directory.\n",
    "\n",
    "## Imports"
   ]
  },
  {
   "cell_type": "code",
   "execution_count": 1,
   "metadata": {},
   "outputs": [],
   "source": [
    "import os\n",
    "import sys\n",
    "\n",
    "import numpy as np\n",
    "import matplotlib.pyplot as plt\n",
    "\n",
    "module_path = os.path.abspath(os.path.join('..'))\n",
    "if module_path not in sys.path:\n",
    "    sys.path.append(module_path)\n",
    "    \n",
    "from heisenberg import *  \n",
    "\n",
    "# Keep 3 digits of accuracy, and avoid scientific notation when possible.\n",
    "np.set_printoptions(precision=3, suppress=True) "
   ]
  },
  {
   "cell_type": "markdown",
   "metadata": {},
   "source": [
    "# 7.1 Computing matrix elements\n",
    "\n",
    "The Heisenberg model:\n",
    "\n",
    "$$\\hat H = J \\sum_{\\langle i, j \\rangle} \\hat S_i^z \\hat S_j^z + \\frac{1}{2}(\\hat S_i^+ \\hat S_j^- + \\hat S_i^- \\hat S_j^+)$$\n",
    "\n",
    "## a) 2 sites with Spin-1/2\n",
    "\n",
    "### i. Compute the matrix elements by hand\n",
    "\n",
    "$$\\hat S^z = \\frac{1}{2}\\begin{pmatrix}1 & 0 \\\\ 0 & -1\\end{pmatrix}$$\n",
    "$$\\hat S^+ = \\begin{pmatrix}0 & 1 \\\\ 0 & 0\\end{pmatrix}$$\n",
    "$$\\hat S^- = \\begin{pmatrix}0 & 0 \\\\ 1 & 0\\end{pmatrix}$$\n",
    "\n",
    "Expanding:\n",
    "\n",
    "$$\\hat S_i^z \\hat S_j^z = \\frac{1}{2}\\begin{pmatrix}1 & 0 \\\\ 0 & -1\\end{pmatrix}\\otimes \\frac{1}{2}\\begin{pmatrix}1 & 0 \\\\ 0 & -1\\end{pmatrix} = \\frac{1}{4}\\text{diag}(1, -1, -1, 1)$$\n",
    "$$\\hat S_i^+ \\hat S_j^- =\\begin{pmatrix}0 & 1 \\\\ 0 & 0\\end{pmatrix}\\otimes\\begin{pmatrix}0 & 0 \\\\ 1 & 0\\end{pmatrix} = \\begin{pmatrix}0&0&0&0\\\\0&0&1&0\\\\0&0&0&0\\\\0&0&0&0\\end{pmatrix}$$\n",
    "$$\\hat S_i^- \\hat S_j^+ = \\begin{pmatrix}0 & 0 \\\\ 1 & 0\\end{pmatrix}\\otimes \\begin{pmatrix}0 & 1 \\\\ 0 & 0\\end{pmatrix} =\\begin{pmatrix}0&0&0&0\\\\0&0&0&0\\\\0&1&0&0\\\\0&0&0&0\\end{pmatrix}$$\n",
    "\n",
    "Combining:\n",
    "$$\\hat H= \\frac{J}{4}\\begin{pmatrix}1&0&0&0\\\\0&-1&2&0\\\\0&2&-1&0\\\\0&0&0&1\\end{pmatrix}$$\n",
    "\n",
    "Now we can solve for the eigenvalues with:\n",
    "$$\\det \\left( \\hat H - \\lambda \\mathcal 1\\right)=0.$$"
   ]
  },
  {
   "cell_type": "markdown",
   "metadata": {},
   "source": [
    "Solving this, we get the eigenvalues $\\lambda = \\frac{J}{4}$ (with \n",
    "multiplicity 2), $-\\frac{3J}{4}, -\\frac{J}{4}$.\n",
    "\n",
    "Let's find the corresponding eigenvectors:\n",
    "\n",
    "$$ \\frac{J}{4}\\begin{pmatrix}1&0&0&0\\\\0&-1&2&0\\\\0&2&-1&0\\\\0&0&0&1\\end{pmatrix}\\begin{pmatrix}a\\\\b\\\\c\\\\d\\end{pmatrix}= \\lambda \\begin{pmatrix}a\\\\b\\\\c\\\\d\\end{pmatrix}$$\n",
    "$$\n",
    "\\frac{J}{4}\\begin{pmatrix}a\\\\-b+2c\\\\2b -c\\\\d\\end{pmatrix} = \\lambda \\begin{pmatrix}a\\\\b\\\\c\\\\d\\end{pmatrix}$$\n",
    "\n",
    "Plugging in our eigenvalues, we get:\n",
    "\n",
    "$$\\lambda=\\frac{J}{4} \\quad\\Rightarrow\\quad \\vec v = (1,0,0,0)^T = |\\uparrow \\uparrow\\rangle$$\n",
    "$$\\lambda=\\frac{J}{4} \\quad\\Rightarrow\\quad \\vec v = (0,0,0,1)^T = |\\downarrow \\downarrow\\rangle$$\n",
    "$$\\lambda=\\frac{J}{4} \\quad\\Rightarrow\\quad \\vec v = \\frac{1}{\\sqrt 2}(0,1,1,0)^T= \\frac{1}{\\sqrt 2}(|\\uparrow \\downarrow\\rangle + |\\downarrow \\uparrow \\rangle $$\n",
    "$$\\lambda=\\frac{-3J}{4}\\quad\\Rightarrow\\quad \\vec v = \\frac{1}{\\sqrt 2}(0,1,-1,0)^T= \\frac{1}{\\sqrt 2}(|\\uparrow \\downarrow\\rangle - |\\downarrow \\uparrow \\rangle $$.\n",
    "\n",
    "Exactly as we expect from quantum I, the excited triplet and the lower-level singlet.\n",
    "\n",
    "\n",
    "### ii. Compute the pmatrix elements using `np.kron` and `np.linalg.eig`\n"
   ]
  },
  {
   "cell_type": "code",
   "execution_count": 2,
   "metadata": {},
   "outputs": [
    {
     "name": "stdout",
     "output_type": "stream",
     "text": [
      "Heisenberg chain of 2 spin-0.5 particles with J=1.0\n",
      "Hamiltonian (in matrix form):\n",
      "[[ 0.25  0.    0.    0.  ]\n",
      " [ 0.   -0.25  0.5   0.  ]\n",
      " [ 0.    0.5  -0.25  0.  ]\n",
      " [ 0.    0.    0.    0.25]]\n",
      "\n",
      "Number of bytes: 128\n",
      "Eigenvalues:\n",
      "[-0.75  0.25  0.25  0.25]\n",
      "\n",
      "With corresponding eigenvectors (respectively):\n",
      "[[ 0.     1.     0.     0.   ]\n",
      " [ 0.707  0.     0.707  0.   ]\n",
      " [-0.707  0.     0.707  0.   ]\n",
      " [ 0.     0.     0.     1.   ]]\n"
     ]
    }
   ],
   "source": [
    "def heisenberg_2_site_spin_half(): \n",
    "    # Check out the included `heisenberg.py` module for most of the logic\n",
    "    system = HeisenbergSpinHalf()\n",
    "    system.diagonalize(verbose=True)\n",
    "    \n",
    "heisenberg_2_site_spin_half()"
   ]
  },
  {
   "cell_type": "markdown",
   "metadata": {},
   "source": [
    "## b) S=1\n",
    "### i. Compute the eigenvalues by hand\n",
    "\n",
    "$$\\hat S^z = \\begin{pmatrix}1 & 0 & 0 \\\\ 0 &0 & 0 \\\\ 0 & 0 &  -1\\end{pmatrix}$$\n",
    "$$\\hat S^+ = \\frac{1}{\\sqrt 2}\\begin{pmatrix}0 & 1 & 0\\\\ 0 & 0& 1 \\\\ 0 & 0 & 0\\end{pmatrix}$$\n",
    "$$\\hat S^- = \\frac{1}{\\sqrt 2}\\begin{pmatrix}0 & 0 &0\\\\ 1 & 0&0\\\\0&1&0\\end{pmatrix}$$\n",
    "\n",
    "We can easily deduce the form of $\\hat S^\\pm$ from their action on the eigenstates of the $\\hat S^z$ operator, i.e. $|\\uparrow\\rangle\\rightarrow0$, $|0\\rangle\\rightarrow |\\uparrow\\rangle$, etc., and the particular normalization constant from the equations (2 and 3) provided.\n",
    "\n",
    "Again, we take the Kronecker product.\n",
    "Then, summing these terms together, we get for the Hamiltonian:\n",
    "\n",
    "$$\\hat H = J \\begin{pmatrix} \n",
    "1 & 0 & 0 & 0& 0 & 0 & 0& 0 & 0\\\\\n",
    "0 & 0 & 0 & 1& 0 & 0 & 0& 0 & 0\\\\\n",
    "0 & 0 & -1 & 0& 1 & 0 & 0& 0 & 0\\\\\n",
    "0 & 1 & 0 & 0& 0 & 0 & 0& 0 & 0\\\\\n",
    "0 & 0 & 1 & 0& 0 & 0 & 1& 0 & 0\\\\\n",
    "0 & 0 & 0 & 0& 0 & 0 & 0& 1 & 0\\\\\n",
    "0 & 0 & 0 & 0& 1 & 0 & -1& 0 & 0\\\\\n",
    "0 & 0 & 0 & 0& 0 & 1 & 0& 0 & 0\\\\\n",
    "0 & 0 & 0 & 0& 0 & 0 & 0& 0 & 1\n",
    "\\end{pmatrix}$$\n",
    "\n",
    "At this point, you can plug this into Wolfram alpha and get the corresponding eigenvalues: \n",
    "$$-2,(-1)^3,(1)^5.$$\n",
    "I've omitted the full eigenvectors for brevity's sake (they're included below as determined by the computer)."
   ]
  },
  {
   "cell_type": "code",
   "execution_count": 3,
   "metadata": {},
   "outputs": [
    {
     "name": "stdout",
     "output_type": "stream",
     "text": [
      "Heisenberg chain of 2 spin-1 particles with J=1\n",
      "Hamiltonian (in matrix form):\n",
      "[[ 1.  0.  0.  0.  0.  0.  0.  0.  0.]\n",
      " [ 0.  0.  0.  1.  0.  0.  0.  0.  0.]\n",
      " [ 0.  0. -1.  0.  1.  0.  0.  0.  0.]\n",
      " [ 0.  1.  0.  0.  0.  0.  0.  0.  0.]\n",
      " [ 0.  0.  1.  0.  0.  0.  1.  0.  0.]\n",
      " [ 0.  0.  0.  0.  0.  0.  0.  1.  0.]\n",
      " [ 0.  0.  0.  0.  1.  0. -1.  0.  0.]\n",
      " [ 0.  0.  0.  0.  0.  1.  0.  0.  0.]\n",
      " [ 0.  0.  0.  0.  0.  0.  0.  0.  1.]]\n",
      "\n",
      "Number of bytes: 648\n",
      "Eigenvalues:\n",
      "[-2. -1. -1. -1.  1.  1.  1.  1.  1.]\n",
      "\n",
      "With corresponding eigenvectors (respectively):\n",
      "[[ 0.    -0.    -0.     0.     1.     0.     0.     0.     0.   ]\n",
      " [ 0.    -0.707 -0.     0.     0.     0.     0.    -0.707  0.   ]\n",
      " [ 0.577  0.    -0.     0.707  0.     0.     0.     0.    -0.408]\n",
      " [ 0.     0.707 -0.     0.     0.     0.     0.    -0.707  0.   ]\n",
      " [-0.577 -0.    -0.    -0.     0.     0.     0.     0.    -0.816]\n",
      " [ 0.    -0.     0.707  0.     0.     0.     0.707  0.     0.   ]\n",
      " [ 0.577 -0.     0.    -0.707  0.     0.     0.     0.    -0.408]\n",
      " [ 0.    -0.    -0.707  0.     0.     0.     0.707  0.     0.   ]\n",
      " [ 0.    -0.    -0.     0.     0.     1.     0.     0.     0.   ]]\n"
     ]
    }
   ],
   "source": [
    "def heisenberg_2_site_spin_one(): \n",
    "    system = HeisenbergSpinOne()\n",
    "    system.diagonalize(verbose=True)\n",
    "\n",
    "heisenberg_2_site_spin_one()"
   ]
  },
  {
   "cell_type": "markdown",
   "metadata": {},
   "source": [
    "# 7.2 Exact diagonalization of Heisengberg spin chains.\n",
    "\n",
    "For the sake of brevity, I display only the list of eigenvalues for the following problems (otherwise you get horrible 16x16 matrices). If you want to see the full picture, just change `verbose=False` to `verbose=True`.\n",
    "\n",
    "## 7.2.1 Four-site Spin-1/2 chain\n"
   ]
  },
  {
   "cell_type": "code",
   "execution_count": 4,
   "metadata": {},
   "outputs": [
    {
     "name": "stdout",
     "output_type": "stream",
     "text": [
      "Heisenberg model for spin-1/2 with four sites, OPEN boundary conditions, and dense matrices.\n",
      "Heisenberg chain of 4 spin-0.5 particles with J=1.0\n",
      "Hamiltonian (in matrix form):\n",
      "[[ 0.75  0.    0.    0.    0.    0.    0.    0.    0.    0.    0.    0.\n",
      "   0.    0.    0.    0.  ]\n",
      " [ 0.    0.25  0.5   0.    0.    0.    0.    0.    0.    0.    0.    0.\n",
      "   0.    0.    0.    0.  ]\n",
      " [ 0.    0.5  -0.25  0.    0.5   0.    0.    0.    0.    0.    0.    0.\n",
      "   0.    0.    0.    0.  ]\n",
      " [ 0.    0.    0.    0.25  0.    0.5   0.    0.    0.    0.    0.    0.\n",
      "   0.    0.    0.    0.  ]\n",
      " [ 0.    0.    0.5   0.   -0.25  0.    0.    0.    0.5   0.    0.    0.\n",
      "   0.    0.    0.    0.  ]\n",
      " [ 0.    0.    0.    0.5   0.   -0.75  0.5   0.    0.    0.5   0.    0.\n",
      "   0.    0.    0.    0.  ]\n",
      " [ 0.    0.    0.    0.    0.    0.5  -0.25  0.    0.    0.    0.5   0.\n",
      "   0.    0.    0.    0.  ]\n",
      " [ 0.    0.    0.    0.    0.    0.    0.    0.25  0.    0.    0.    0.5\n",
      "   0.    0.    0.    0.  ]\n",
      " [ 0.    0.    0.    0.    0.5   0.    0.    0.    0.25  0.    0.    0.\n",
      "   0.    0.    0.    0.  ]\n",
      " [ 0.    0.    0.    0.    0.    0.5   0.    0.    0.   -0.25  0.5   0.\n",
      "   0.    0.    0.    0.  ]\n",
      " [ 0.    0.    0.    0.    0.    0.    0.5   0.    0.    0.5  -0.75  0.\n",
      "   0.5   0.    0.    0.  ]\n",
      " [ 0.    0.    0.    0.    0.    0.    0.    0.5   0.    0.    0.   -0.25\n",
      "   0.    0.5   0.    0.  ]\n",
      " [ 0.    0.    0.    0.    0.    0.    0.    0.    0.    0.    0.5   0.\n",
      "   0.25  0.    0.    0.  ]\n",
      " [ 0.    0.    0.    0.    0.    0.    0.    0.    0.    0.    0.    0.5\n",
      "   0.   -0.25  0.5   0.  ]\n",
      " [ 0.    0.    0.    0.    0.    0.    0.    0.    0.    0.    0.    0.\n",
      "   0.    0.5   0.25  0.  ]\n",
      " [ 0.    0.    0.    0.    0.    0.    0.    0.    0.    0.    0.    0.\n",
      "   0.    0.    0.    0.75]]\n",
      "\n",
      "Number of bytes: 2048\n",
      "Eigenvalues:\n",
      "[-1.616 -0.957 -0.957 -0.957 -0.25  -0.25  -0.25   0.116  0.457  0.457\n",
      "  0.457  0.75   0.75   0.75   0.75   0.75 ]\n",
      "\n",
      "With corresponding eigenvectors (respectively):\n",
      "[[-0.     0.     0.    -0.    -0.     0.     0.     0.     0.     0.\n",
      "  -0.     0.     1.     0.     0.     0.   ]\n",
      " [-0.     0.     0.     0.271 -0.     0.     0.5    0.     0.    -0.653\n",
      "  -0.     0.     0.     0.     0.5    0.   ]\n",
      " [-0.     0.     0.    -0.653 -0.     0.    -0.5    0.     0.    -0.271\n",
      "  -0.     0.     0.     0.     0.5    0.   ]\n",
      " [ 0.149 -0.271 -0.005  0.    -0.    -0.     0.    -0.558 -0.653  0.\n",
      "   0.023 -0.004  0.     0.     0.    -0.408]\n",
      " [ 0.     0.     0.     0.653 -0.     0.    -0.5    0.     0.     0.271\n",
      "   0.     0.     0.     0.     0.5    0.   ]\n",
      " [-0.558  0.653  0.012  0.     0.    -0.     0.     0.149 -0.27   0.\n",
      "   0.009 -0.004  0.     0.     0.    -0.408]\n",
      " [ 0.408 -0.     0.     0.     0.684 -0.178  0.     0.408  0.     0.\n",
      "   0.    -0.004  0.     0.     0.    -0.408]\n",
      " [ 0.     0.005 -0.271  0.    -0.126 -0.484  0.    -0.    -0.023  0.\n",
      "  -0.653  0.5    0.     0.     0.    -0.004]\n",
      " [ 0.     0.     0.    -0.271  0.     0.     0.5    0.     0.     0.653\n",
      "   0.     0.     0.     0.     0.5    0.   ]\n",
      " [ 0.408 -0.    -0.    -0.    -0.684  0.178  0.     0.408  0.     0.\n",
      "  -0.    -0.004  0.     0.     0.    -0.408]\n",
      " [-0.558 -0.653 -0.012  0.    -0.     0.     0.     0.149  0.27   0.\n",
      "  -0.009 -0.004  0.     0.     0.    -0.408]\n",
      " [ 0.    -0.012  0.653  0.     0.126  0.484  0.    -0.    -0.009  0.\n",
      "  -0.27   0.5    0.     0.     0.    -0.004]\n",
      " [ 0.149  0.271  0.005  0.     0.     0.     0.    -0.558  0.653  0.\n",
      "  -0.023 -0.004  0.     0.     0.    -0.408]\n",
      " [-0.     0.012 -0.653 -0.     0.126  0.484  0.    -0.     0.009  0.\n",
      "   0.27   0.5    0.     0.     0.    -0.004]\n",
      " [ 0.    -0.005  0.271  0.    -0.126 -0.484  0.     0.     0.023  0.\n",
      "   0.653  0.5    0.     0.     0.    -0.004]\n",
      " [-0.     0.     0.    -0.    -0.     0.     0.     0.     0.     0.\n",
      "  -0.     0.     0.     1.     0.     0.   ]]\n",
      "Eigenvalues: [-1.616 -0.957 -0.957 -0.957 -0.25  -0.25  -0.25   0.116  0.457  0.457\n",
      "  0.457  0.75   0.75   0.75   0.75   0.75 ]\n"
     ]
    }
   ],
   "source": [
    "def heisenberg_4_site_spin_half(): \n",
    "    system = HeisenbergSpinHalf(n_spins=4)\n",
    "    print(\"Eigenvalues: {}\".format(system.diagonalize(verbose=True)[0]))\n",
    "\n",
    "print(\"Heisenberg model for spin-1/2 with four sites, OPEN boundary conditions, and dense matrices.\")\n",
    "heisenberg_4_site_spin_half()"
   ]
  },
  {
   "cell_type": "markdown",
   "metadata": {},
   "source": [
    "## 7.2.2 Four site spin-1/2 with periodic boundaries"
   ]
  },
  {
   "cell_type": "code",
   "execution_count": 5,
   "metadata": {},
   "outputs": [
    {
     "name": "stdout",
     "output_type": "stream",
     "text": [
      "Heisenberg model for spin-1/2 with four sites, PERIODIC boundary conditions, and dense matrices.\n",
      "Eigenvalues: [-2. -1. -1. -1. -0. -0. -0.  0.  0.  0.  0.  1.  1.  1.  1.  1.]\n"
     ]
    }
   ],
   "source": [
    "def heisenberg_4_site_spin_half_periodic(): \n",
    "    system = HeisenbergSpinHalf(n_spins=4, bdry_conds=\"periodic\")\n",
    "    print(\"Eigenvalues: {}\".format(system.diagonalize(verbose=False)[0]))\n",
    "\n",
    "print(\"Heisenberg model for spin-1/2 with four sites, PERIODIC boundary conditions, and dense matrices.\")\n",
    "heisenberg_4_site_spin_half_periodic()"
   ]
  },
  {
   "cell_type": "markdown",
   "metadata": {},
   "source": [
    "## 7.2.3 Four site spin-1/2 with sparse matrices\n",
    "I only include the first 4 eigenvalues for these matrices. If you want more, you can adapt `n_eigvals=4` to your preferred number of eigenvalues.\n",
    " \n",
    "### 7.2.3.i Open Boundaries"
   ]
  },
  {
   "cell_type": "code",
   "execution_count": 6,
   "metadata": {},
   "outputs": [
    {
     "name": "stdout",
     "output_type": "stream",
     "text": [
      "Heisenberg model for spin-1/2 with four sites, OPEN boundary conditions, and SPARSE matrices.\n",
      "First 4 eigenvalues: [-1.616 -0.957 -0.957 -0.957]\n"
     ]
    }
   ],
   "source": [
    "def heisenberg_4_site_spin_half_sparse(): \n",
    "    system = HeisenbergSpinHalf(n_spins=4, mode=\"sparse\")\n",
    "    print(\"First 4 eigenvalues: {}\".format(system.diagonalize(verbose=False, n_eigvals=4)[0]))\n",
    "    \n",
    "print(\"Heisenberg model for spin-1/2 with four sites, OPEN boundary conditions, and SPARSE matrices.\")\n",
    "heisenberg_4_site_spin_half_sparse()"
   ]
  },
  {
   "cell_type": "markdown",
   "metadata": {},
   "source": [
    "### 7.2.3.ii Periodic Boundaries"
   ]
  },
  {
   "cell_type": "code",
   "execution_count": 7,
   "metadata": {},
   "outputs": [
    {
     "name": "stdout",
     "output_type": "stream",
     "text": [
      "Heisenberg model for spin-1/2 with four sites, PERIODIC boundary conditions, and SPARSE matrices.\n",
      "First 4 eigenvalues: [-2. -1. -1. -1.]\n"
     ]
    }
   ],
   "source": [
    "def heisenberg_4_site_spin_half_sparse_periodic(): \n",
    "    system = HeisenbergSpinHalf(n_spins=4, mode=\"sparse\", bdry_conds=\"periodic\")\n",
    "    print(\"First 4 eigenvalues: {}\".format(system.diagonalize(verbose=False, n_eigvals=4)[0]))\n",
    "\n",
    "print(\"Heisenberg model for spin-1/2 with four sites, PERIODIC boundary conditions, and SPARSE matrices.\")\n",
    "\n",
    "heisenberg_4_site_spin_half_sparse_periodic()"
   ]
  },
  {
   "cell_type": "markdown",
   "metadata": {},
   "source": [
    "### Compare the memory usage:\n",
    "\n",
    "For the dense matrix, the Hamiltonian used 2048 bytes (both times the same amount for obvious reasons). For the sparse matrix versions, we used 320 and 288 bytes respectively. That's getting an improvement of 6-8 times! We see an added benefit that using sparse matrices allows the memory needed to vary with the number of non-zero elements.\n",
    "\n",
    "## 7.2.4 Energy variation with chain length"
   ]
  },
  {
   "cell_type": "code",
   "execution_count": 8,
   "metadata": {},
   "outputs": [
    {
     "data": {
      "image/png": "[encoded data removed]",
      "text/plain": [
       "<Figure size 432x288 with 1 Axes>"
      ]
     },
     "metadata": {
      "needs_background": "light"
     },
     "output_type": "display_data"
    }
   ],
   "source": [
    "def heisenberg_energy_with_chain_length():\n",
    "    chain_lengths = np.arange(2,15)\n",
    "    ground_states = np.zeros(chain_lengths.size)\n",
    "    \n",
    "    for i, chain_length in enumerate(chain_lengths):\n",
    "        system = HeisenbergSpinHalf(n_spins=chain_length, mode=\"sparse\", bdry_conds=\"periodic\")\n",
    "        ground_states[i] = system.diagonalize(verbose=False, n_eigvals=1)[0][0]\n",
    "        \n",
    "    plt.plot(chain_lengths, ground_states)\n",
    "    plt.title(\"Chain length versus Ground state energy of spin-1/2 1-dimensional Heisenberg chain with periodic boundaries\")\n",
    "    plt.xlabel(\"Chain Length\")\n",
    "    plt.ylabel(\"Ground State Energy\")\n",
    "    \n",
    "heisenberg_energy_with_chain_length()"
   ]
  },
  {
   "cell_type": "markdown",
   "metadata": {},
   "source": [
    "### Why is this oscillatory?\n",
    "\n",
    "Using classical intution, we see that when we have an even number of classical spins, we can orient all neighboring spins with opposite spins. With an odd number of classical spins, we would end up with a pair of neighboring spins which have the same spin value. This is energetically less favorable. The quantum ground state won't correspond exactly to this classical ground state, but it will be \"close.\"\n",
    "\n",
    "## 7.2.5 Energy gaps\n"
   ]
  },
  {
   "cell_type": "code",
   "execution_count": 9,
   "metadata": {},
   "outputs": [
    {
     "data": {
      "image/png": "[encoded data removed]",
      "text/plain": [
       "<Figure size 432x288 with 1 Axes>"
      ]
     },
     "metadata": {
      "needs_background": "light"
     },
     "output_type": "display_data"
    }
   ],
   "source": [
    "def heisenberg_energy_gaps():\n",
    "    chain_lengths = np.arange(2,16,2)\n",
    "    energy_gaps = np.zeros(chain_lengths.size)\n",
    "    \n",
    "    for i, chain_length in enumerate(chain_lengths):\n",
    "        system=HeisenbergSpinHalf(n_spins=chain_length, mode=\"sparse\", bdry_conds=\"periodic\")\n",
    "        eigvals = system.diagonalize(verbose=False, n_eigvals=2)[0]\n",
    "        energy_gaps[i]= eigvals[1]-eigvals[0]\n",
    "        \n",
    "    # Fitting to the form y = mx + b where x = 1./chain_length and y=energy_gap\n",
    "    [m, b] = np.polyfit(1./chain_lengths[-4:], energy_gaps[-4:], deg=1)\n",
    "        \n",
    "    # We extrapolate over the range 0 to 0.1 for the inverse chain length\n",
    "    regression_xs = np.arange(0, 0.1,0.001)\n",
    "    regression_ys = m*regression_xs + b\n",
    "    \n",
    "    plt.plot(1./chain_lengths, energy_gaps, label=\"Measured values\")\n",
    "    plt.plot(regression_xs, regression_ys, label=\"Linear extrapolation\")\n",
    "    plt.title(\"Inverse chain length versus first energy gap of spin-1/2 1-dimensional Heisenberg chain with periodic boundaries\")\n",
    "    plt.xlabel(\"Inverse Chain Length\")\n",
    "    plt.ylabel(\"First Energy Gap\")\n",
    "    plt.legend()\n",
    "    \n",
    "heisenberg_energy_gaps()"
   ]
  },
  {
   "cell_type": "code",
   "execution_count": 10,
   "metadata": {},
   "outputs": [
    {
     "data": {
      "image/png": "[encoded data removed]",
      "text/plain": [
       "<Figure size 432x288 with 1 Axes>"
      ]
     },
     "metadata": {
      "needs_background": "light"
     },
     "output_type": "display_data"
    }
   ],
   "source": [
    "def heisenberg_spin_one_energy_gaps():\n",
    "    chain_lengths = np.arange(2,11,2)\n",
    "    energy_gaps = np.zeros(chain_lengths.size)\n",
    "    \n",
    "    for i, chain_length in enumerate(chain_lengths):\n",
    "        system=HeisenbergSpinOne(n_spins=chain_length, mode=\"sparse\", bdry_conds=\"periodic\")\n",
    "        eigvals = system.diagonalize(verbose=False, n_eigvals=2)[0]\n",
    "        energy_gaps[i]= eigvals[1]-eigvals[0]\n",
    "        \n",
    "    # Fitting to the form y = mx + b where x = 1./chain_length and y=energy_gap\n",
    "    [m, b] = np.polyfit(1./chain_lengths[-3:], energy_gaps[-3:], deg=1)\n",
    "        \n",
    "    # We extrapolate over the range 0 to 0.1 for the inverse chain length\n",
    "    regression_xs = np.arange(0, 0.1,0.001)\n",
    "    regression_ys = m*regression_xs + b\n",
    "    \n",
    "    plt.plot(1./chain_lengths, energy_gaps, label=\"Measured values\")\n",
    "    plt.plot(regression_xs, regression_ys, label=\"Linear extrapolation\")\n",
    "    plt.title(\"Inverse chain length versus first energy gap of spin-1 1-dimensional Heisenberg chain with periodic boundaries\")\n",
    "    plt.xlabel(\"Inverse Chain Length\")\n",
    "    plt.ylabel(\"First Energy Gap\")\n",
    "    plt.legend()\n",
    "    \n",
    "heisenberg_spin_one_energy_gaps()"
   ]
  }
 ],
 "metadata": {
  "kernelspec": {
   "display_name": "Python 3",
   "language": "python",
   "name": "python3"
  },
  "language_info": {
   "codemirror_mode": {
    "name": "ipython",
    "version": 2
   },
   "file_extension": ".py",
   "mimetype": "text/x-python",
   "name": "python",
   "nbconvert_exporter": "python",
   "pygments_lexer": "ipython2",
   "version": "2.7.15"
  }
 },
 "nbformat": 4,
 "nbformat_minor": 2
}
