{
 "cells": [
  {
   "cell_type": "code",
   "execution_count": 1,
   "metadata": {},
   "outputs": [],
   "source": [
    "import os\n",
    "import sys\n",
    "\n",
    "import numpy as np\n",
    "from scipy.linalg import diagsvd\n",
    "import matplotlib.pyplot as plt\n",
    "\n",
    "module_path = os.path.abspath(os.path.join('..'))\n",
    "if module_path not in sys.path:\n",
    "    sys.path.append(module_path)\n",
    "    \n",
    "from compute_energy import compute_energy\n",
    "from imaginary_time_evolution import ImaginaryTimeEvolution, get_heisenberg_local_hamiltonian\n",
    "\n",
    "# Keep 3 digits of accuracy, and avoid scientific notation when possible.\n",
    "np.set_printoptions(precision=3, suppress=True, threshold=5) "
   ]
  },
  {
   "cell_type": "markdown",
   "metadata": {},
   "source": [
    "### Goal: \n",
    "1. Apply Imaginary Time Evolution Operator successively between all NN-pairs.\n",
    "2. Use an SVD to bring the time-evolved state back into MPS form, with bond dimension back to ``D`` (in mixed canonical form wrt to the bond being truncated)"
   ]
  },
  {
   "cell_type": "code",
   "execution_count": 2,
   "metadata": {},
   "outputs": [],
   "source": [
    "def create_random_state(n_spins):\n",
    "    random_state_unnormed = np.random.uniform(low=-1., high=1., size= 2**n_spins)\n",
    "    return random_state_unnormed / np.linalg.norm(random_state_unnormed) "
   ]
  },
  {
   "cell_type": "code",
   "execution_count": 3,
   "metadata": {},
   "outputs": [],
   "source": [
    "def decompose_to_mps(state, max_bond_dim=None):\n",
    "    \"\"\"\n",
    "    @param state: is a np.ndarray of shape [2**n_sites]\n",
    "    \"\"\"\n",
    "\n",
    "    n_sites = int(np.log2(state.size)) # First we try with 4\n",
    "\n",
    "    if max_bond_dim is None: \n",
    "        # If the user doesn't specify a max_bond_dim, then any dimension is allowed\n",
    "        # And we can recreate the state exactly.\n",
    "        max_bond_dim = 2**(n_sites//2)\n",
    "\n",
    "    mps = []\n",
    "    prev_u_dim = 1\n",
    "        \n",
    "    for i in range(n_sites-1):\n",
    "        state = state.reshape((2*prev_u_dim, -1)) \n",
    "        \n",
    "        # FULL BOND DIMENSION [2, 4, 8, 16 ... 16, 8, 4, 2]\n",
    "        # This would preserve the state in its entirety\n",
    "        if (i < n_sites / 2): \n",
    "            full_bond_dim = 2 ** (i+1)\n",
    "        else:\n",
    "            full_bond_dim = 2 ** (n_sites - i)\n",
    "                    \n",
    "        # Perform the SVD\n",
    "        u, s, v = np.linalg.svd(state, full_matrices=False)\n",
    "        # state with shape [l, r]\n",
    "        # u with shape [l, k]\n",
    "        # s with shape k := min(l, r)\n",
    "        # v with shape [k, r]\n",
    "\n",
    "        # CONSTRAIN IF MAXIMUM ALLOWED DIMENSION < FULL REQUIRED DIMENSION\n",
    "        # This amounts to changing k -> max_bond_dimension\n",
    "        if max_bond_dim < full_bond_dim:\n",
    "            # If our max_bond_dim is less than the full bond dimension\n",
    "            # required to perfectly encode the state, then we need to \n",
    "            # \"trim\" our u, s, and v matrices\n",
    "            \n",
    "            u = u[:, :max_bond_dim]\n",
    "            s = s[:max_bond_dim]\n",
    "            v = v[:max_bond_dim, :]\n",
    "            \n",
    "        # RESHAPE U DEPENDING ON BOUNDARY CONDITIONS\n",
    "        # Depending on whether we are at boundary sites or in the chain, \n",
    "        # we will need 2 or 3 indices, respectively.\n",
    "        if (i == 0):\n",
    "            u = u.reshape([2, 1, 2])\n",
    "            #elif (n_sites % 2 == 1 and i == n_sites // 2): # Middle site\n",
    "            #    u = u.reshape([prev_u_dim, 2, prev_u_dim])\n",
    "        elif (i == n_sites - 1):\n",
    "            u = u.reshape([2, 2, 1])\n",
    "        else: \n",
    "            u = u.reshape([prev_u_dim, 2, -1])\n",
    "              \n",
    "        # The first axis on the next U has the same shape as the last axis of the current U\n",
    "        prev_u_dim = u.shape[-1]\n",
    "\n",
    "        # We add our U to the matrix product state list\n",
    "        # This is a list because the U's can have different numbers of indices\n",
    "        mps.append(u)\n",
    "        state = np.dot(np.diag(s), v)\n",
    "        \n",
    "    mps.append(state)\n",
    "            \n",
    "    return mps"
   ]
  },
  {
   "cell_type": "code",
   "execution_count": 4,
   "metadata": {},
   "outputs": [],
   "source": [
    "init_state = decompose_to_mps(create_random_state(16), 4)"
   ]
  },
  {
   "cell_type": "code",
   "execution_count": 6,
   "metadata": {},
   "outputs": [
    {
     "ename": "ValueError",
     "evalue": "shape-mismatch for sum",
     "output_type": "error",
     "traceback": [
      "\u001b[0;31m---------------------------------------------------------------------------\u001b[0m",
      "\u001b[0;31mValueError\u001b[0m                                Traceback (most recent call last)",
      "\u001b[0;32m<ipython-input-6-db0e03d61c78>\u001b[0m in \u001b[0;36m<module>\u001b[0;34m()\u001b[0m\n\u001b[1;32m      1\u001b[0m \u001b[0mimaginary_time_evolution\u001b[0m \u001b[0;34m=\u001b[0m \u001b[0mImaginaryTimeEvolution\u001b[0m\u001b[0;34m(\u001b[0m\u001b[0mget_heisenberg_local_hamiltonian\u001b[0m\u001b[0;34m(\u001b[0m\u001b[0mkind\u001b[0m\u001b[0;34m=\u001b[0m\u001b[0;34m\"4-tensor\"\u001b[0m\u001b[0;34m)\u001b[0m\u001b[0;34m,\u001b[0m \u001b[0;36m4\u001b[0m\u001b[0;34m)\u001b[0m\u001b[0;34m\u001b[0m\u001b[0m\n\u001b[0;32m----> 2\u001b[0;31m \u001b[0mgs\u001b[0m \u001b[0;34m=\u001b[0m \u001b[0mimaginary_time_evolution\u001b[0m\u001b[0;34m.\u001b[0m\u001b[0mfind_groundstate\u001b[0m\u001b[0;34m(\u001b[0m\u001b[0minit_state\u001b[0m\u001b[0;34m)\u001b[0m\u001b[0;34m\u001b[0m\u001b[0m\n\u001b[0m",
      "\u001b[0;32m/Users/Jesse/Documents/School/ANM/ex10/imaginary_time_evolution.py\u001b[0m in \u001b[0;36mfind_groundstate\u001b[0;34m(self, init_ket, time_step, tol, max_n_sweeps)\u001b[0m\n\u001b[1;32m    103\u001b[0m         \u001b[0mconvergence_criteria\u001b[0m \u001b[0;34m=\u001b[0m \u001b[0mself\u001b[0m\u001b[0;34m.\u001b[0m\u001b[0m_compute_energy\u001b[0m\u001b[0;34m\u001b[0m\u001b[0m\n\u001b[1;32m    104\u001b[0m \u001b[0;34m\u001b[0m\u001b[0m\n\u001b[0;32m--> 105\u001b[0;31m         \u001b[0;32mreturn\u001b[0m \u001b[0mself\u001b[0m\u001b[0;34m.\u001b[0m\u001b[0mevolve\u001b[0m\u001b[0;34m(\u001b[0m\u001b[0minit_ket\u001b[0m\u001b[0;34m,\u001b[0m \u001b[0mconvergence_criteria\u001b[0m\u001b[0;34m,\u001b[0m \u001b[0mgate\u001b[0m\u001b[0;34m,\u001b[0m \u001b[0mtol\u001b[0m\u001b[0;34m,\u001b[0m \u001b[0mmax_n_sweeps\u001b[0m\u001b[0;34m)\u001b[0m\u001b[0;34m\u001b[0m\u001b[0m\n\u001b[0m",
      "\u001b[0;32m/Users/Jesse/Documents/School/ANM/ex10/imaginary_time_evolution.py\u001b[0m in \u001b[0;36mevolve\u001b[0;34m(self, init_ket, convergence_criteria, gate, tol, max_n_sweeps)\u001b[0m\n\u001b[1;32m     85\u001b[0m         \u001b[0mket\u001b[0m \u001b[0;34m=\u001b[0m \u001b[0minit_ket\u001b[0m\u001b[0;34m\u001b[0m\u001b[0m\n\u001b[1;32m     86\u001b[0m \u001b[0;34m\u001b[0m\u001b[0m\n\u001b[0;32m---> 87\u001b[0;31m         \u001b[0mprev_criteria\u001b[0m \u001b[0;34m=\u001b[0m \u001b[0mconvergence_criteria\u001b[0m\u001b[0;34m(\u001b[0m\u001b[0minit_ket\u001b[0m\u001b[0;34m)\u001b[0m\u001b[0;34m\u001b[0m\u001b[0m\n\u001b[0m\u001b[1;32m     88\u001b[0m         \u001b[0mcurr_criteria\u001b[0m \u001b[0;34m=\u001b[0m \u001b[0mprev_criteria\u001b[0m\u001b[0;34m\u001b[0m\u001b[0m\n\u001b[1;32m     89\u001b[0m \u001b[0;34m\u001b[0m\u001b[0m\n",
      "\u001b[0;32m/Users/Jesse/Documents/School/ANM/ex10/imaginary_time_evolution.py\u001b[0m in \u001b[0;36m_compute_energy\u001b[0;34m(self, ket)\u001b[0m\n\u001b[1;32m     36\u001b[0m \u001b[0;34m\u001b[0m\u001b[0m\n\u001b[1;32m     37\u001b[0m     \u001b[0;32mdef\u001b[0m \u001b[0m_compute_energy\u001b[0m\u001b[0;34m(\u001b[0m\u001b[0mself\u001b[0m\u001b[0;34m,\u001b[0m \u001b[0mket\u001b[0m\u001b[0;34m)\u001b[0m\u001b[0;34m:\u001b[0m\u001b[0;34m\u001b[0m\u001b[0m\n\u001b[0;32m---> 38\u001b[0;31m         \u001b[0mcompute_energy\u001b[0m\u001b[0;34m(\u001b[0m\u001b[0mket\u001b[0m\u001b[0;34m,\u001b[0m \u001b[0mself\u001b[0m\u001b[0;34m.\u001b[0m\u001b[0mlocal_hamiltonian\u001b[0m\u001b[0;34m)\u001b[0m\u001b[0;34m\u001b[0m\u001b[0m\n\u001b[0m\u001b[1;32m     39\u001b[0m \u001b[0;34m\u001b[0m\u001b[0m\n\u001b[1;32m     40\u001b[0m     \u001b[0;32mdef\u001b[0m \u001b[0m_contract\u001b[0m\u001b[0;34m(\u001b[0m\u001b[0mself\u001b[0m\u001b[0;34m,\u001b[0m \u001b[0mket_1\u001b[0m\u001b[0;34m,\u001b[0m \u001b[0mket_2\u001b[0m\u001b[0;34m,\u001b[0m \u001b[0mgate\u001b[0m\u001b[0;34m,\u001b[0m \u001b[0mdirection\u001b[0m\u001b[0;34m)\u001b[0m\u001b[0;34m:\u001b[0m\u001b[0;34m\u001b[0m\u001b[0m\n",
      "\u001b[0;32m/Users/Jesse/Documents/School/ANM/ex10/compute_energy.pyc\u001b[0m in \u001b[0;36mcompute_energy\u001b[0;34m(ket, H2site, cx)\u001b[0m\n\u001b[1;32m     42\u001b[0m         \u001b[0mBraKeti\u001b[0m \u001b[0;34m=\u001b[0m \u001b[0mBraKetiplus1\u001b[0m\u001b[0;34m\u001b[0m\u001b[0m\n\u001b[1;32m     43\u001b[0m         \u001b[0mBraKetiplus1\u001b[0m \u001b[0;34m=\u001b[0m \u001b[0mContractBraKet\u001b[0m\u001b[0;34m(\u001b[0m\u001b[0mket\u001b[0m\u001b[0;34m[\u001b[0m\u001b[0mi\u001b[0m\u001b[0;34m+\u001b[0m\u001b[0;36m1\u001b[0m\u001b[0;34m]\u001b[0m\u001b[0;34m,\u001b[0m \u001b[0mbra\u001b[0m\u001b[0;34m[\u001b[0m\u001b[0mi\u001b[0m\u001b[0;34m+\u001b[0m\u001b[0;36m1\u001b[0m\u001b[0;34m]\u001b[0m\u001b[0;34m)\u001b[0m\u001b[0;34m\u001b[0m\u001b[0m\n\u001b[0;32m---> 44\u001b[0;31m         \u001b[0mHamLefti\u001b[0m \u001b[0;34m=\u001b[0m \u001b[0mContractHam\u001b[0m\u001b[0;34m(\u001b[0m\u001b[0mH2site\u001b[0m\u001b[0;34m,\u001b[0m \u001b[0mket\u001b[0m\u001b[0;34m[\u001b[0m\u001b[0mi\u001b[0m\u001b[0;34m]\u001b[0m\u001b[0;34m,\u001b[0m \u001b[0mket\u001b[0m\u001b[0;34m[\u001b[0m\u001b[0mi\u001b[0m\u001b[0;34m+\u001b[0m\u001b[0;36m1\u001b[0m\u001b[0;34m]\u001b[0m\u001b[0;34m,\u001b[0m \u001b[0mbra\u001b[0m\u001b[0;34m[\u001b[0m\u001b[0mi\u001b[0m\u001b[0;34m]\u001b[0m\u001b[0;34m,\u001b[0m \u001b[0mbra\u001b[0m\u001b[0;34m[\u001b[0m\u001b[0mi\u001b[0m\u001b[0;34m+\u001b[0m\u001b[0;36m1\u001b[0m\u001b[0;34m]\u001b[0m\u001b[0;34m)\u001b[0m\u001b[0;34m\u001b[0m\u001b[0m\n\u001b[0m\u001b[1;32m     45\u001b[0m         \u001b[0mHamLeft\u001b[0m \u001b[0;34m=\u001b[0m \u001b[0mnp\u001b[0m\u001b[0;34m.\u001b[0m\u001b[0mtensordot\u001b[0m\u001b[0;34m(\u001b[0m\u001b[0mHamLeft\u001b[0m\u001b[0;34m,\u001b[0m  \u001b[0mBraKetiplus1\u001b[0m\u001b[0;34m,\u001b[0m \u001b[0maxes\u001b[0m\u001b[0;34m=\u001b[0m\u001b[0;34m(\u001b[0m\u001b[0;34m[\u001b[0m\u001b[0;36m2\u001b[0m\u001b[0;34m,\u001b[0m\u001b[0;36m3\u001b[0m\u001b[0;34m]\u001b[0m\u001b[0;34m,\u001b[0m\u001b[0;34m[\u001b[0m\u001b[0;36m0\u001b[0m\u001b[0;34m,\u001b[0m\u001b[0;36m1\u001b[0m\u001b[0;34m]\u001b[0m\u001b[0;34m)\u001b[0m\u001b[0;34m)\u001b[0m\u001b[0;31m \u001b[0m\u001b[0;31m\\\u001b[0m\u001b[0;34m\u001b[0m\u001b[0m\n\u001b[1;32m     46\u001b[0m                         \u001b[0;34m+\u001b[0m \u001b[0mnp\u001b[0m\u001b[0;34m.\u001b[0m\u001b[0mtensordot\u001b[0m\u001b[0;34m(\u001b[0m\u001b[0mNorm2Left\u001b[0m\u001b[0;34m,\u001b[0m \u001b[0mHamLefti\u001b[0m\u001b[0;34m,\u001b[0m \u001b[0maxes\u001b[0m\u001b[0;34m=\u001b[0m\u001b[0;34m(\u001b[0m\u001b[0;34m[\u001b[0m\u001b[0;36m2\u001b[0m\u001b[0;34m,\u001b[0m\u001b[0;36m3\u001b[0m\u001b[0;34m]\u001b[0m\u001b[0;34m,\u001b[0m\u001b[0;34m[\u001b[0m\u001b[0;36m0\u001b[0m\u001b[0;34m,\u001b[0m\u001b[0;36m1\u001b[0m\u001b[0;34m]\u001b[0m\u001b[0;34m)\u001b[0m\u001b[0;34m)\u001b[0m\u001b[0;34m\u001b[0m\u001b[0m\n",
      "\u001b[0;32m/Users/Jesse/Documents/School/ANM/ex10/compute_energy.pyc\u001b[0m in \u001b[0;36mContractHam\u001b[0;34m(H2site, ket1, ket2, bra1, bra2)\u001b[0m\n\u001b[1;32m     18\u001b[0m     \u001b[0;32mdef\u001b[0m \u001b[0mContractHam\u001b[0m\u001b[0;34m(\u001b[0m\u001b[0mH2site\u001b[0m\u001b[0;34m,\u001b[0m \u001b[0mket1\u001b[0m\u001b[0;34m,\u001b[0m \u001b[0mket2\u001b[0m\u001b[0;34m,\u001b[0m \u001b[0mbra1\u001b[0m\u001b[0;34m,\u001b[0m \u001b[0mbra2\u001b[0m\u001b[0;34m)\u001b[0m\u001b[0;34m:\u001b[0m\u001b[0;34m\u001b[0m\u001b[0m\n\u001b[1;32m     19\u001b[0m         \u001b[0mTens\u001b[0m \u001b[0;34m=\u001b[0m \u001b[0mnp\u001b[0m\u001b[0;34m.\u001b[0m\u001b[0mtensordot\u001b[0m\u001b[0;34m(\u001b[0m\u001b[0mket1\u001b[0m\u001b[0;34m,\u001b[0m \u001b[0mH2site\u001b[0m\u001b[0;34m,\u001b[0m \u001b[0maxes\u001b[0m\u001b[0;34m=\u001b[0m\u001b[0;34m[\u001b[0m\u001b[0;36m0\u001b[0m\u001b[0;34m,\u001b[0m\u001b[0;36m2\u001b[0m\u001b[0;34m]\u001b[0m\u001b[0;34m)\u001b[0m\u001b[0;34m\u001b[0m\u001b[0m\n\u001b[0;32m---> 20\u001b[0;31m         \u001b[0mTens\u001b[0m \u001b[0;34m=\u001b[0m \u001b[0mnp\u001b[0m\u001b[0;34m.\u001b[0m\u001b[0mtensordot\u001b[0m\u001b[0;34m(\u001b[0m\u001b[0mTens\u001b[0m\u001b[0;34m,\u001b[0m \u001b[0mket2\u001b[0m\u001b[0;34m,\u001b[0m \u001b[0maxes\u001b[0m\u001b[0;34m=\u001b[0m\u001b[0;34m(\u001b[0m\u001b[0;34m[\u001b[0m\u001b[0;36m1\u001b[0m\u001b[0;34m,\u001b[0m\u001b[0;36m4\u001b[0m\u001b[0;34m]\u001b[0m\u001b[0;34m,\u001b[0m\u001b[0;34m[\u001b[0m\u001b[0;36m1\u001b[0m\u001b[0;34m,\u001b[0m\u001b[0;36m0\u001b[0m\u001b[0;34m]\u001b[0m\u001b[0;34m)\u001b[0m\u001b[0;34m)\u001b[0m\u001b[0;34m\u001b[0m\u001b[0m\n\u001b[0m\u001b[1;32m     21\u001b[0m         \u001b[0mTens\u001b[0m \u001b[0;34m=\u001b[0m \u001b[0mnp\u001b[0m\u001b[0;34m.\u001b[0m\u001b[0mtensordot\u001b[0m\u001b[0;34m(\u001b[0m\u001b[0mTens\u001b[0m\u001b[0;34m,\u001b[0m \u001b[0mbra1\u001b[0m\u001b[0;34m,\u001b[0m \u001b[0maxes\u001b[0m\u001b[0;34m=\u001b[0m\u001b[0;34m[\u001b[0m\u001b[0;36m1\u001b[0m\u001b[0;34m,\u001b[0m\u001b[0;36m0\u001b[0m\u001b[0;34m]\u001b[0m\u001b[0;34m)\u001b[0m\u001b[0;34m\u001b[0m\u001b[0m\n\u001b[1;32m     22\u001b[0m         \u001b[0mTens\u001b[0m \u001b[0;34m=\u001b[0m \u001b[0mnp\u001b[0m\u001b[0;34m.\u001b[0m\u001b[0mtensordot\u001b[0m\u001b[0;34m(\u001b[0m\u001b[0mTens\u001b[0m\u001b[0;34m,\u001b[0m \u001b[0mbra2\u001b[0m\u001b[0;34m,\u001b[0m \u001b[0maxes\u001b[0m\u001b[0;34m=\u001b[0m\u001b[0;34m(\u001b[0m\u001b[0;34m[\u001b[0m\u001b[0;36m4\u001b[0m\u001b[0;34m,\u001b[0m\u001b[0;36m1\u001b[0m\u001b[0;34m]\u001b[0m\u001b[0;34m,\u001b[0m\u001b[0;34m[\u001b[0m\u001b[0;36m1\u001b[0m\u001b[0;34m,\u001b[0m\u001b[0;36m0\u001b[0m\u001b[0;34m]\u001b[0m\u001b[0;34m)\u001b[0m\u001b[0;34m)\u001b[0m\u001b[0;34m\u001b[0m\u001b[0m\n",
      "\u001b[0;32m/usr/local/lib/python2.7/site-packages/numpy/core/numeric.pyc\u001b[0m in \u001b[0;36mtensordot\u001b[0;34m(a, b, axes)\u001b[0m\n\u001b[1;32m   1369\u001b[0m                 \u001b[0maxes_b\u001b[0m\u001b[0;34m[\u001b[0m\u001b[0mk\u001b[0m\u001b[0;34m]\u001b[0m \u001b[0;34m+=\u001b[0m \u001b[0mndb\u001b[0m\u001b[0;34m\u001b[0m\u001b[0m\n\u001b[1;32m   1370\u001b[0m     \u001b[0;32mif\u001b[0m \u001b[0;32mnot\u001b[0m \u001b[0mequal\u001b[0m\u001b[0;34m:\u001b[0m\u001b[0;34m\u001b[0m\u001b[0m\n\u001b[0;32m-> 1371\u001b[0;31m         \u001b[0;32mraise\u001b[0m \u001b[0mValueError\u001b[0m\u001b[0;34m(\u001b[0m\u001b[0;34m\"shape-mismatch for sum\"\u001b[0m\u001b[0;34m)\u001b[0m\u001b[0;34m\u001b[0m\u001b[0m\n\u001b[0m\u001b[1;32m   1372\u001b[0m \u001b[0;34m\u001b[0m\u001b[0m\n\u001b[1;32m   1373\u001b[0m     \u001b[0;31m# Move the axes to sum over to the end of \"a\"\u001b[0m\u001b[0;34m\u001b[0m\u001b[0;34m\u001b[0m\u001b[0m\n",
      "\u001b[0;31mValueError\u001b[0m: shape-mismatch for sum"
     ]
    }
   ],
   "source": [
    "imaginary_time_evolution = ImaginaryTimeEvolution(get_heisenberg_local_hamiltonian(kind=\"4-tensor\"), 4)\n",
    "gs = imaginary_time_evolution.find_groundstate(init_state)"
   ]
  },
  {
   "cell_type": "code",
   "execution_count": 7,
   "metadata": {},
   "outputs": [
    {
     "ename": "NameError",
     "evalue": "name 'gs' is not defined",
     "output_type": "error",
     "traceback": [
      "\u001b[0;31m---------------------------------------------------------------------------\u001b[0m",
      "\u001b[0;31mNameError\u001b[0m                                 Traceback (most recent call last)",
      "\u001b[0;32m<ipython-input-7-0689afe9c9c3>\u001b[0m in \u001b[0;36m<module>\u001b[0;34m()\u001b[0m\n\u001b[0;32m----> 1\u001b[0;31m \u001b[0;32mprint\u001b[0m\u001b[0;34m(\u001b[0m\u001b[0mgs\u001b[0m\u001b[0;34m)\u001b[0m\u001b[0;34m\u001b[0m\u001b[0m\n\u001b[0m",
      "\u001b[0;31mNameError\u001b[0m: name 'gs' is not defined"
     ]
    }
   ],
   "source": [
    "print(gs)"
   ]
  },
  {
   "cell_type": "code",
   "execution_count": null,
   "metadata": {},
   "outputs": [],
   "source": [
    "    "
   ]
  }
 ],
 "metadata": {
  "kernelspec": {
   "display_name": "Python 3",
   "language": "python",
   "name": "python3"
  },
  "language_info": {
   "codemirror_mode": {
    "name": "ipython",
    "version": 2
   },
   "file_extension": ".py",
   "mimetype": "text/x-python",
   "name": "python",
   "nbconvert_exporter": "python",
   "pygments_lexer": "ipython2",
   "version": "2.7.15"
  }
 },
 "nbformat": 4,
 "nbformat_minor": 2
}
