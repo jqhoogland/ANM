{
 "cells": [
  {
   "cell_type": "markdown",
   "metadata": {},
   "source": [
    "## Advanced Numerical  Methods in Many-Body Physics\n",
    "# Exercise 9\n",
    "### Jesse Hoogland \n",
    "\n",
    "--- \n",
    "I added only one new method to `heisenberg.py` since exercise 7 (to get the energy of an arbitrary state with `get_energy`). \n",
    "\n",
    "## Imports"
   ]
  },
  {
   "cell_type": "code",
   "execution_count": 1,
   "metadata": {},
   "outputs": [],
   "source": [
    "import os\n",
    "import sys\n",
    "\n",
    "import numpy as np\n",
    "from scipy.linalg import diagsvd\n",
    "import matplotlib.pyplot as plt\n",
    "\n",
    "module_path = os.path.abspath(os.path.join('..'))\n",
    "if module_path not in sys.path:\n",
    "    sys.path.append(module_path)\n",
    "    \n",
    "from tensor_networks import *  \n",
    "from heisenberg import *\n",
    "\n",
    "# Keep 3 digits of accuracy, and avoid scientific notation when possible.\n",
    "np.set_printoptions(precision=3, suppress=True, threshold=5) "
   ]
  },
  {
   "cell_type": "markdown",
   "metadata": {},
   "source": [
    "# 9.1 Introduction to tensor network operations\n",
    "\n",
    "## 9.1.1 Compare matrix and 4-tensor representations of the 2-site spin-1/2 Heisenberg system.\n"
   ]
  },
  {
   "cell_type": "code",
   "execution_count": 2,
   "metadata": {},
   "outputs": [],
   "source": [
    "S_z = np.array([[1.,0],[0, -1.]])/2.\n",
    "S_plus = np.array([[0,1.],[0,0]])\n",
    "S_minus = np.array([[0,0],[1.,0]])"
   ]
  },
  {
   "cell_type": "code",
   "execution_count": 3,
   "metadata": {},
   "outputs": [
    {
     "name": "stdout",
     "output_type": "stream",
     "text": [
      "Heisenberg hamiltonian in matrix form:\n",
      "[[ 0.25  0.    0.    0.  ]\n",
      " [ 0.   -0.25  0.5   0.  ]\n",
      " [ 0.    0.5  -0.25  0.  ]\n",
      " [ 0.    0.    0.    0.25]]\n",
      "Heisenberg hamiltonian in 4-tensor form:\n",
      "[[[[ 0.25  0.  ]\n",
      "   [ 0.    0.  ]]\n",
      "\n",
      "  [[ 0.   -0.25]\n",
      "   [ 0.5   0.  ]]]\n",
      "\n",
      "\n",
      " [[[ 0.    0.5 ]\n",
      "   [-0.25  0.  ]]\n",
      "\n",
      "  [[ 0.    0.  ]\n",
      "   [ 0.    0.25]]]]\n"
     ]
    }
   ],
   "source": [
    "hamiltonian_matrix_form = np.kron(S_z, S_z) + (np.kron(S_plus, S_minus)+np.kron(S_minus,S_plus))/2\n",
    "hamiltonian_4_tensor_form = np.reshape(hamiltonian_matrix_form, [2,2,2,2])\n",
    "\n",
    "print(\"Heisenberg hamiltonian in matrix form:\\n{}\".format(hamiltonian_matrix_form))\n",
    "print(\"Heisenberg hamiltonian in 4-tensor form:\\n{}\".format(hamiltonian_4_tensor_form))"
   ]
  },
  {
   "cell_type": "markdown",
   "metadata": {},
   "source": [
    "Indeed, the elements of $\\hat S_1^z \\hat S_2^z$ are where we expect them to be: each 2 by 2 innermost nestled matrix in the 4-tensor matrix corresponds to one the columns of the matrix form. These act, in order, on $|\\uparrow\\uparrow\\rangle,|\\uparrow\\downarrow\\rangle,|\\downarrow\\uparrow\\rangle,|\\downarrow\\downarrow\\rangle$, \n",
    "\n",
    "## 9.1.2 Compare vector and matrix representations of the ground state of the 2-state spin-1/2 Heisenberg system.\n",
    "\n",
    "![Tensor network](./img/tensor_network_heisenberg.png)"
   ]
  },
  {
   "cell_type": "code",
   "execution_count": 4,
   "metadata": {},
   "outputs": [
    {
     "name": "stdout",
     "output_type": "stream",
     "text": [
      "Eigenvalue spectrum:\n",
      "[-0.75  0.25  0.25  0.25]\n",
      "with corresponding eigenvectors:\n",
      "[[ 0.     1.     0.     0.   ]\n",
      " [ 0.707  0.     0.707  0.   ]\n",
      " [-0.707  0.     0.707  0.   ]\n",
      " [ 0.     0.     0.     1.   ]]\n",
      "\n",
      "Ground state in vector form:\n",
      "[ 0.     0.707 -0.707  0.   ]\n",
      "Ground state in matrix form:\n",
      "[[ 0.     0.707]\n",
      " [-0.707  0.   ]]\n"
     ]
    }
   ],
   "source": [
    "eig_vals, eig_vecs = np.linalg.eigh(hamiltonian_matrix_form)  \n",
    "\n",
    "ground_state_vec_form = eig_vecs[:,0]\n",
    "ground_state_matrix_form = np.reshape(ground_state_vec_form, [2,2])\n",
    "\n",
    "print(\"Eigenvalue spectrum:\\n{}\\nwith corresponding eigenvectors:\\n{}\".format(eig_vals, eig_vecs))\n",
    "print(\"\\nGround state in vector form:\\n{}\".format(ground_state_vec_form))\n",
    "print(\"Ground state in matrix form:\\n{}\".format(ground_state_matrix_form)) \n"
   ]
  },
  {
   "cell_type": "markdown",
   "metadata": {},
   "source": [
    "## 9.1.3 Draw the Tensor network diagrams (and calculate) for the norm and energy of the ground state in the matrix representation"
   ]
  },
  {
   "cell_type": "code",
   "execution_count": 5,
   "metadata": {},
   "outputs": [
    {
     "name": "stdout",
     "output_type": "stream",
     "text": [
      "The ground state should have unit norm. It has norm 1.0.\n",
      "The ground state should have energy -0.75. It has energy -0.75\n"
     ]
    }
   ],
   "source": [
    "ground_state_norm = np.tensordot(ground_state_matrix_form, \n",
    "                                 ground_state_matrix_form)\n",
    " \n",
    "print(\"The ground state should have unit norm. It has norm {}.\".format(ground_state_norm))\n",
    "\n",
    "ground_state_energy_true = eig_vals[0]\n",
    "\n",
    "ground_state_energy = np.tensordot(ground_state_matrix_form,\n",
    "                                 np.tensordot(hamiltonian_4_tensor_form,\n",
    "                                              ground_state_matrix_form,\n",
    "                                 ))\n",
    "\n",
    "print(\"The ground state should have energy {}. It has energy {}\".format(ground_state_energy_true, ground_state_energy))\n"
   ]
  },
  {
   "cell_type": "markdown",
   "metadata": {},
   "source": [
    "## 9.1.4 Transpose the indices and see what changes"
   ]
  },
  {
   "cell_type": "code",
   "execution_count": 6,
   "metadata": {},
   "outputs": [
    {
     "name": "stdout",
     "output_type": "stream",
     "text": [
      "The transposed ground state has norm 1.0.\n",
      "The transposed ground state has energy -0.75\n"
     ]
    }
   ],
   "source": [
    "ground_state_matrix_form_T = np.transpose(ground_state_matrix_form)\n",
    "\n",
    "ground_state_norm_T = np.tensordot(ground_state_matrix_form_T, \n",
    "                                   ground_state_matrix_form_T)\n",
    " \n",
    "print(\"The transposed ground state has norm {}.\".format(ground_state_norm_T))\n",
    "\n",
    "ground_state_energy_T = np.tensordot(ground_state_matrix_form_T,\n",
    "                                 np.tensordot(hamiltonian_4_tensor_form,\n",
    "                                              ground_state_matrix_form_T,\n",
    "                                 ))\n",
    "\n",
    "print(\"The transposed ground state has energy {}\".format(ground_state_energy_T))\n"
   ]
  },
  {
   "cell_type": "markdown",
   "metadata": {},
   "source": [
    "As we might expect, so long as we change both of the indices in tandem, nothing is changed. \n",
    "\n",
    "### Check that the Hamiltonian is Hermitian"
   ]
  },
  {
   "cell_type": "code",
   "execution_count": 7,
   "metadata": {},
   "outputs": [
    {
     "name": "stdout",
     "output_type": "stream",
     "text": [
      "The original Hamiltonian is:\n",
      "[[[[ 0.25  0.  ]\n",
      "   [ 0.    0.  ]]\n",
      "\n",
      "  [[ 0.   -0.25]\n",
      "   [ 0.5   0.  ]]]\n",
      "\n",
      "\n",
      " [[[ 0.    0.5 ]\n",
      "   [-0.25  0.  ]]\n",
      "\n",
      "  [[ 0.    0.  ]\n",
      "   [ 0.    0.25]]]]\n",
      "\n",
      "and the transposed Hamiltonian is:\n",
      "[[[[ 0.25  0.  ]\n",
      "   [ 0.    0.  ]]\n",
      "\n",
      "  [[ 0.   -0.25]\n",
      "   [ 0.5   0.  ]]]\n",
      "\n",
      "\n",
      " [[[ 0.    0.5 ]\n",
      "   [-0.25  0.  ]]\n",
      "\n",
      "  [[ 0.    0.  ]\n",
      "   [ 0.    0.25]]]]\n"
     ]
    }
   ],
   "source": [
    "print(\"The original Hamiltonian is:\\n{}\\n\\nand the transposed Hamiltonian is:\\n{}\".format(hamiltonian_4_tensor_form, np.transpose(hamiltonian_4_tensor_form)))"
   ]
  },
  {
   "cell_type": "markdown",
   "metadata": {},
   "source": [
    "A quick glance reveals them to be the same, so the Hamiltonian is, indeed, Hermitian.\n",
    "\n",
    "# 9.2 Schmidt Decomposition and Entanglement entropy\n",
    "\n",
    "## 9.2.1 Ground state of 16-site spin-1/2 Heisenberg chain with open boundaries"
   ]
  },
  {
   "cell_type": "code",
   "execution_count": 8,
   "metadata": {},
   "outputs": [],
   "source": [
    "heisenberg = HeisenbergSpinHalf(n_spins=16, mode=\"sparse\")\n",
    "ground_state_energy, ground_state = heisenberg.diagonalize(verbose=False, n_eigvals=1)\n",
    "ground_state_energy = ground_state_energy[0]"
   ]
  },
  {
   "cell_type": "markdown",
   "metadata": {},
   "source": [
    "## 9.2.2 Entanglement entropy and eigenvalue distribution of reduced density matrix across middle split"
   ]
  },
  {
   "cell_type": "code",
   "execution_count": 9,
   "metadata": {},
   "outputs": [],
   "source": [
    "ground_state_matrix = ground_state.reshape([2**8,2**8])"
   ]
  },
  {
   "cell_type": "code",
   "execution_count": 10,
   "metadata": {},
   "outputs": [],
   "source": [
    "u, singular_vals, v = np.linalg.svd(ground_state_matrix,full_matrices=False, compute_uv=True)"
   ]
  },
  {
   "cell_type": "code",
   "execution_count": 11,
   "metadata": {},
   "outputs": [
    {
     "name": "stdout",
     "output_type": "stream",
     "text": [
      "The Von Neumann entropy of the ground state is: 0.592307034077\n"
     ]
    }
   ],
   "source": [
    "get_von_neumann_entropy = lambda probs: np.sum(-probs * np.log(probs))\n",
    "\n",
    "eig_vals = np.square(singular_vals) \n",
    "von_neumann_entropy = get_von_neumann_entropy(eig_vals)\n",
    "norm_eig_vals = eig_vals / np.sum(eig_vals)\n",
    "\n",
    "print(\"The Von Neumann entropy of the ground state is: {}\".format(von_neumann_entropy ))"
   ]
  },
  {
   "cell_type": "markdown",
   "metadata": {},
   "source": [
    "The eigenvalue distribution is displayed below.\n",
    "## 9.2.3 Random state entanglement entrorpy and eigenvalue distribution"
   ]
  },
  {
   "cell_type": "code",
   "execution_count": 12,
   "metadata": {},
   "outputs": [],
   "source": [
    "def create_random_state(n_spins):\n",
    "    random_state_unnormed = np.random.uniform(low=-1., high=1., size= 2**n_spins)\n",
    "    return random_state_unnormed / np.linalg.norm(random_state_unnormed)\n"
   ]
  },
  {
   "cell_type": "code",
   "execution_count": 13,
   "metadata": {},
   "outputs": [],
   "source": [
    "random_state = create_random_state(16)\n",
    "random_state_matrix = random_state.reshape([2**8,2**8])\n",
    "random_u, random_singular_vals, random_v = np.linalg.svd(random_state_matrix, full_matrices=False)\n",
    "random_eig_vals = np.square(random_singular_vals)\n",
    "random_eig_vals_normed = random_eig_vals / np.sum(random_eig_vals)\n",
    "random_state_entropy = get_von_neumann_entropy(random_eig_vals_normed)"
   ]
  },
  {
   "cell_type": "code",
   "execution_count": 14,
   "metadata": {},
   "outputs": [
    {
     "data": {
      "text/plain": [
       "Text(0,0.5,'Eigenvalue magnitude')"
      ]
     },
     "execution_count": 14,
     "metadata": {},
     "output_type": "execute_result"
    },
    {
     "data": {
      "image/png": "[encoded data removed]",
      "text/plain": [
       "<Figure size 432x288 with 1 Axes>"
      ]
     },
     "metadata": {
      "needs_background": "light"
     },
     "output_type": "display_data"
    }
   ],
   "source": [
    "plt.semilogy(np.arange(eig_vals.shape[0]), norm_eig_vals,label=\"Ground state\")\n",
    "plt.semilogy(np.arange(eig_vals.shape[0]), random_eig_vals_normed, label=\"Random state\")\n",
    "\n",
    "plt.legend()\n",
    "plt.title(\"Eigenvalue distribution of the reduced density matrix\")\n",
    "plt.xlabel(\"Eigenvalue ranking in descending order\")\n",
    "plt.ylabel(\"Eigenvalue magnitude\")"
   ]
  },
  {
   "cell_type": "code",
   "execution_count": 15,
   "metadata": {},
   "outputs": [
    {
     "data": {
      "text/plain": [
       "-6.911737145575108"
      ]
     },
     "execution_count": 15,
     "metadata": {},
     "output_type": "execute_result"
    }
   ],
   "source": [
    "def get_energy(hamiltonian, state):\n",
    "    state = state.reshape([np.prod(state.shape), 1])\n",
    "    res = np.dot((state.T * hamiltonian), state)\n",
    "    assert res.shape == (1,1)\n",
    "    return res[0,0]\n",
    "    \n",
    "\n",
    "get_heisenberg_energy = lambda s: get_energy(heisenberg.hamiltonian, s)\n",
    "\n",
    "get_heisenberg_energy(ground_state)"
   ]
  },
  {
   "cell_type": "markdown",
   "metadata": {},
   "source": [
    "### What do you observe?\n",
    "We see that the ground state decreases much more rapidly (seemingly exponentially) than the random state, which has dominant \"activations\" across a large number of modes. No single one of the random state's components is considerably more likely than any of the others."
   ]
  },
  {
   "cell_type": "code",
   "execution_count": 16,
   "metadata": {},
   "outputs": [],
   "source": [
    "def expectation_val_scaling(observable_fn, probs, U, V, n_samples):\n",
    "    \"\"\"\n",
    "    Computes the weighted sum of ``observable_fn`` over ``states`` according to \n",
    "    weights ``probs``. Computes a weighted sum of up to ``n_samples``.\n",
    "    \n",
    "    Returns an array of length ``n_samples``, each index i corresponding to \n",
    "    the value resulting from computing expectation of up to the i most probable states.\n",
    "    \"\"\"\n",
    "    expectations= np.zeros(n_samples)\n",
    "    cumulative_sum = 0\n",
    "    cumulative_prob = 0\n",
    "    \n",
    "    for i in range(0,n_samples):\n",
    "        ith_contrib = get_heisenberg_energy(sp.kron(U[:,i], V.T[:, i] , \"csr\").T)\n",
    "        #print(ith_contrib)\n",
    "        cumulative_sum += ith_contrib * probs[i]\n",
    "        cumulative_prob += probs[i]\n",
    "        expectations[i] = cumulative_sum / cumulative_prob\n",
    "        \n",
    "    return expectations"
   ]
  },
  {
   "cell_type": "code",
   "execution_count": 17,
   "metadata": {},
   "outputs": [],
   "source": [
    "ground_state_energy_scaling = expectation_val_scaling(get_heisenberg_energy, eig_vals, u, v, 100)"
   ]
  },
  {
   "cell_type": "code",
   "execution_count": 18,
   "metadata": {},
   "outputs": [],
   "source": [
    "random_energy_scaling = expectation_val_scaling(get_heisenberg_energy, random_eig_vals, random_u, random_v, 100)"
   ]
  },
  {
   "cell_type": "code",
   "execution_count": 19,
   "metadata": {},
   "outputs": [
    {
     "data": {
      "image/png": "[encoded data removed]",
      "text/plain": [
       "<Figure size 432x288 with 2 Axes>"
      ]
     },
     "metadata": {
      "needs_background": "light"
     },
     "output_type": "display_data"
    }
   ],
   "source": [
    "\n",
    "fig, ax1 = plt.subplots()\n",
    "color1 = \"tab:red\"\n",
    "ax1.set_xlabel('Number of terms included')\n",
    "ax1.set_ylabel('Ground State Energy', color=color1)\n",
    "ax1.plot(np.arange(ground_state_energy_scaling.size), ground_state_energy_scaling, color=color1)\n",
    "ax1.tick_params(axis='y', labelcolor=color1)\n",
    "\n",
    "color2 = \"tab:blue\"\n",
    "ax2 = ax1.twinx()\n",
    "ax2.set_ylabel('Random State Energy', color=color2)\n",
    "ax2.plot(np.arange(random_energy_scaling.size), random_energy_scaling,color=color2)\n",
    "ax2.tick_params(axis='y', labelcolor=color2)"
   ]
  },
  {
   "cell_type": "markdown",
   "metadata": {},
   "source": [
    "Upon comparing the ground state energy approximation with the explicit calculation (see exercise 7), we can check that our code is working correctly.\n",
    "\n",
    "### Observations on convergence of estimate\n",
    "Indeed, the ground state energy converges to the right answer within 5 or so terms. On the other hand, the random state energy has a drift-diffusion kind of quality, oscillating regularly, and not even converging within the first 100 samples"
   ]
  },
  {
   "cell_type": "markdown",
   "metadata": {},
   "source": [
    "# 9.3 Decomposition of a state into an MPS using SVDs\n",
    "\n",
    "## 9.3.1. Function to decompose an arbitrary state into an MPS"
   ]
  },
  {
   "cell_type": "code",
   "execution_count": 47,
   "metadata": {},
   "outputs": [],
   "source": [
    "def decompose_to_mps(state, max_bond_dim=None):\n",
    "    \"\"\"\n",
    "    @param state: is a np.ndarray of shape [2**n_sites]\n",
    "    \"\"\"\n",
    "\n",
    "    n_sites = int(np.log2(state.size)) # First we try with 4\n",
    "\n",
    "    if max_bond_dim is None: \n",
    "        # If the user doesn't specify a max_bond_dim, then any dimension is allowed\n",
    "        # And we can recreate the state exactly.\n",
    "        max_bond_dim = 2**(n_sites//2)\n",
    "\n",
    "    mps = []\n",
    "    prev_u_dim = 1\n",
    "        \n",
    "    for i in range(n_sites-1):\n",
    "        state = state.reshape((2*prev_u_dim, -1)) \n",
    "        \n",
    "        # FULL BOND DIMENSION [2, 4, 8, 16 ... 16, 8, 4, 2]\n",
    "        # This would preserve the state in its entirety\n",
    "        if (i < n_sites / 2): \n",
    "            full_bond_dim = 2 ** (i+1)\n",
    "        else:\n",
    "            full_bond_dim = 2 ** (n_sites - i)\n",
    "                    \n",
    "        # Perform the SVD\n",
    "        u, s, v = np.linalg.svd(state, full_matrices=False)\n",
    "        # state with shape [l, r]\n",
    "        # u with shape [l, k]\n",
    "        # s with shape k := min(l, r)\n",
    "        # v with shape [k, r]\n",
    "\n",
    "        # CONSTRAIN IF MAXIMUM ALLOWED DIMENSION < FULL REQUIRED DIMENSION\n",
    "        # This amounts to changing k -> max_bond_dimension\n",
    "        if max_bond_dim < full_bond_dim:\n",
    "            # If our max_bond_dim is less than the full bond dimension\n",
    "            # required to perfectly encode the state, then we need to \n",
    "            # \"trim\" our u, s, and v matrices\n",
    "            \n",
    "            u = u[:, :max_bond_dim]\n",
    "            s = s[:max_bond_dim]\n",
    "            v = v[:max_bond_dim, :]\n",
    "        \n",
    "        # RESHAPE U DEPENDING ON BOUNDARY CONDITIONS\n",
    "        # Depending on whether we are at boundary sites or in the chain, \n",
    "        # we will need 2 or 3 indices, respectively.\n",
    "        if (i == 0 or i == n_sites-1): \n",
    "            u = u.reshape([2, 2])\n",
    "            #elif (n_sites % 2 == 1 and i == n_sites // 2): # Middle site\n",
    "            #    u = u.reshape([prev_u_dim, 2, prev_u_dim])\n",
    "        else: \n",
    "            u = u.reshape([prev_u_dim, 2, -1])\n",
    "              \n",
    "        # The first axis on the next U has the same shape as the last axis of the current U\n",
    "        prev_u_dim = u.shape[-1]\n",
    "\n",
    "        # We add our U to the matrix product state list\n",
    "        # This is a list because the U's can have different numbers of indices\n",
    "        mps.append(u)\n",
    "        state = np.dot(np.diag(s), v)\n",
    "        \n",
    "    mps.append(state)\n",
    "            \n",
    "    return mps"
   ]
  },
  {
   "cell_type": "markdown",
   "metadata": {},
   "source": [
    "## 9.3.2 Function to recompute state as vector from MPS\n"
   ]
  },
  {
   "cell_type": "code",
   "execution_count": 48,
   "metadata": {},
   "outputs": [],
   "source": [
    "def vector_from_mps(mps):\n",
    "    vec = mps[0]\n",
    "\n",
    "    for site in mps[1:]:\n",
    "        vec = np.tensordot(vec, site, axes=[[-1], [0]])\n",
    "\n",
    "    vec = vec.reshape([-1])\n",
    "    norm = 1 #vec.dot(vec)\n",
    "    \n",
    "    return vec / np.sqrt(norm)"
   ]
  },
  {
   "cell_type": "markdown",
   "metadata": {},
   "source": [
    "### Checking that 9.3.1 and 9.3.2 are implemented correctly"
   ]
  },
  {
   "cell_type": "code",
   "execution_count": 49,
   "metadata": {},
   "outputs": [
    {
     "name": "stdout",
     "output_type": "stream",
     "text": [
      "\n",
      "----------------------------------------------\n",
      "\n",
      "Testing with a random state on 3 spins.\n",
      "\n",
      "Original state of 3 spins in vector form:\n",
      "[-0.167  0.283  0.265 ... -0.434 -0.608  0.512]\n",
      "MPS state shapes [(2, 2), (2, 2, 2), (2, 2)]\n",
      "\n",
      "Reconstruction of vector form from MPS form:\n",
      "[-0.167  0.283  0.265 ... -0.434 -0.608  0.512]\n",
      "\n",
      "Original energy: 0.3633483769 and reconstructed energy: 0.3633483769\n",
      "\n",
      "✅\n",
      "\n",
      "----------------------------------------------\n",
      "\n",
      "Testing with a random state on 4 spins.\n",
      "\n",
      "Original state of 4 spins in vector form:\n",
      "[-0.153 -0.007  0.251 ... -0.448  0.136 -0.155]\n",
      "MPS state shapes [(2, 2), (2, 2, 4), (4, 2, 2), (2, 2)]\n",
      "\n",
      "Reconstruction of vector form from MPS form:\n",
      "[-0.153 -0.007  0.251 ... -0.448  0.136 -0.155]\n",
      "\n",
      "Original energy: -0.277572831448 and reconstructed energy: -0.277572831448\n",
      "\n",
      "✅\n",
      "\n",
      "----------------------------------------------\n",
      "\n",
      "Testing with the ground state on 6 spins.\n",
      "\n",
      "Original state of 4 spins in vector form:\n",
      "[-0. -0. -0. ...  0. -0. -0.]\n",
      "MPS state shapes [(2, 2), (2, 2, 4), (4, 2, 2), (2, 2)]\n",
      "\n",
      "Reconstruction of vector form from MPS form:\n",
      "[-0. -0. -0. ...  0. -0.  0.]\n",
      "\n",
      "Original energy: -1.61602540378 and reconstructed energy: -1.61602540378\n",
      "\n",
      "✅\n"
     ]
    }
   ],
   "source": [
    "\n",
    "def test_mps_encoding_decoding(state_vec, n_spins):\n",
    "    print(\"Original state of {} spins in vector form:\".format(n_spins))\n",
    "    print(state_vec)\n",
    "    \n",
    "    state_mps = decompose_to_mps(state_vec)\n",
    "\n",
    "    print(\"MPS state shapes {}\".format([mps.shape for mps in state_mps]))\n",
    "    state_vec_reconstructed = vector_from_mps(state_mps)\n",
    "    print(\"\\nReconstruction of vector form from MPS form:\")\n",
    "    print(state_vec_reconstructed)\n",
    "        \n",
    "    heisenberg = HeisenbergSpinHalf(n_spins=n_spins, mode=\"sparse\")\n",
    "    original_energy = get_energy(heisenberg.hamiltonian, state_vec)\n",
    "    reconstructed_energy = get_energy(heisenberg.hamiltonian, state_vec_reconstructed)\n",
    "    print(\"\\nOriginal energy: {} and reconstructed energy: {}\".format(original_energy, reconstructed_energy))\n",
    "    \n",
    "    if np.isclose(original_energy, reconstructed_energy):\n",
    "        print(\"\\n✅\")\n",
    "    else:\n",
    "        print(\"\\n❌\")\n",
    "\n",
    "print(\"\\n----------------------------------------------\\n\")\n",
    "print(\"Testing with a random state on {} spins.\\n\".format(3))\n",
    "test_mps_encoding_decoding(create_random_state(3), 3)\n",
    "\n",
    "print(\"\\n----------------------------------------------\\n\")\n",
    "print(\"Testing with a random state on {} spins.\\n\".format(4))\n",
    "test_mps_encoding_decoding(create_random_state(4), 4)\n",
    "\n",
    "print(\"\\n----------------------------------------------\\n\")\n",
    "print(\"Testing with the ground state on {} spins.\\n\".format(6))\n",
    "heisenberg_6 = HeisenbergSpinHalf(n_spins=4, mode=\"sparse\")\n",
    "ground_state_6 = heisenberg_6.diagonalize(verbose=False, n_eigvals=1)[1].T[0]\n",
    "test_mps_encoding_decoding(ground_state_6, 4)"
   ]
  },
  {
   "cell_type": "markdown",
   "metadata": {},
   "source": [
    "## 9.3.3 Approximate decomposition of ground state as MPS with a given maximal bond dimension. Analyze error."
   ]
  },
  {
   "cell_type": "code",
   "execution_count": 68,
   "metadata": {},
   "outputs": [],
   "source": [
    "def mps_error_scaling(state, n_spins, max_bond_dim_range=np.array([2, 3, 4, 5, 8, 16, 32, 35,\n",
    "                                                                   40, 48, 64, 100]), plot=True):\n",
    "    energy_errors = np.zeros(max_bond_dim_range.size)\n",
    "    \n",
    "    heisenberg = HeisenbergSpinHalf(n_spins=n_spins, mode=\"sparse\")\n",
    "    energy_true = heisenberg.get_energy(state)\n",
    "    \n",
    "    for i, max_bond_dim in enumerate(max_bond_dim_range):\n",
    "        state_approx = vector_from_mps(decompose_to_mps(state, max_bond_dim))\n",
    "        energy_approx = heisenberg.get_energy(state_approx)\n",
    "        energy_errors[i] = (energy_approx-energy_true)** 2 / energy_true**2\n",
    "        \n",
    "    if plot:\n",
    "        plt.semilogy(max_bond_dim_range, energy_errors)\n",
    "        plt.ylabel(\"Error (logarithmic)\")\n",
    "        plt.xlabel(\"Maximum Bond Dimension\")\n",
    "        \n",
    "    return energy_errors\n",
    "    "
   ]
  },
  {
   "cell_type": "code",
   "execution_count": 70,
   "metadata": {},
   "outputs": [
    {
     "name": "stdout",
     "output_type": "stream",
     "text": [
      "MPS approximation accuracy with maximum bond dimension for a 10 spin-1/2 Heisenberg chain.\n"
     ]
    },
    {
     "data": {
      "text/plain": [
       "array([0.084, 0.025, 0.   , ..., 0.   , 0.   , 0.   ])"
      ]
     },
     "execution_count": 70,
     "metadata": {},
     "output_type": "execute_result"
    },
    {
     "data": {
      "image/png": "[encoded data removed]",
      "text/plain": [
       "<Figure size 432x288 with 1 Axes>"
      ]
     },
     "metadata": {
      "needs_background": "light"
     },
     "output_type": "display_data"
    }
   ],
   "source": [
    "heisenberg_10 = HeisenbergSpinHalf(n_spins=10)\n",
    "ground_state_10 = heisenberg_10.diagonalize(verbose=False, n_eigvals=1)[1].T\n",
    "\n",
    "print(\"MPS approximation accuracy with maximum bond dimension for a 10 spin-1/2 Heisenberg chain.\")\n",
    "mps_error_scaling(ground_state_10, 10) "
   ]
  },
  {
   "cell_type": "markdown",
   "metadata": {},
   "source": [
    "# 9.4 Computational cost to contract a tensor network\n",
    "\n",
    "## 9.4.a\n",
    "\n",
    "Leading order: $O(D^6)$\n",
    "\n",
    "![](./img/9.4.a.png)\n",
    "\n",
    "## 9.4.b\n",
    "\n",
    "Leading order: $O(D^4)$\n",
    "\n",
    "![](./img/9.4.b.png)\n",
    "\n",
    "Note: the sub-optimal first contraction would have been $AB$ (with order $O(D^5)$. It would have been equivalently optimal to first contract $CB$.\n",
    "\n",
    "## 9.4.c\n",
    "\n",
    "Leading order: $O(D^6)$\n",
    "\n",
    "![](./img/9.4.c.png)\n",
    " \n",
    "Note: all other possible choices of first contraction are sub-optimal, already exceeding order $O(D^6)$.\n",
    "\n",
    "# 9.5 Drawing tensor network diagrams\n",
    "\n",
    "## 9.5.1 $\\quad\\hat O_{45}$\n",
    "\n",
    "![](./img/9.5.1.png)\n",
    "\n",
    "## 9.5.2 $\\quad\\hat\\rho_{456}=\\text{Tr}_{123}\\hat\\rho$\n",
    "\n",
    "![](./img/9.5.2.png)\n",
    "\n",
    "## 9.5.3 $\\quad \\hat O_2 \\hat O_4$\n",
    "\n",
    "This can be reduced to leading order $O(D^4)$.\n",
    "\n",
    "![](./img/9.5.3.png)"
   ]
  }
 ],
 "metadata": {
  "kernelspec": {
   "display_name": "Python 3",
   "language": "python",
   "name": "python3"
  },
  "language_info": {
   "codemirror_mode": {
    "name": "ipython",
    "version": 2
   },
   "file_extension": ".py",
   "mimetype": "text/x-python",
   "name": "python",
   "nbconvert_exporter": "python",
   "pygments_lexer": "ipython2",
   "version": "2.7.15"
  }
 },
 "nbformat": 4,
 "nbformat_minor": 2
}
