{
 "cells": [
  {
   "cell_type": "code",
   "execution_count": 3,
   "metadata": {},
   "outputs": [],
   "source": [
    "\"\"\"\n",
    "\n",
    "Write a program to perform a Monte Carlo integration of the function f(x) = exp(􀀀x2)\n",
    "between 0 and 100 using N = 10000 samples. The exact result is 0.88623\n",
    "\n",
    "\"\"\"\n",
    "\n",
    "import numpy as np\n",
    "import matplotlib.pyplot as plt\n"
   ]
  },
  {
   "cell_type": "code",
   "execution_count": 11,
   "metadata": {},
   "outputs": [],
   "source": [
    "# Some constants\n",
    "N_SAMPLES = 10000\n",
    "\n",
    "# 3.1.1 Use simple sampling to estimate the value and MC error"
   ]
  },
  {
   "cell_type": "code",
   "execution_count": 35,
   "metadata": {},
   "outputs": [
    {
     "name": "stdout",
     "output_type": "stream",
     "text": [
      "For simple sampling, the estimate is 0.804859123898 and the MC error is 0.0751527996649\n"
     ]
    }
   ],
   "source": [
    "def simple_sampling(n_samples=N_SAMPLES):\n",
    "    # Returns a tuple of the MC estimate and error\n",
    "\n",
    "    simple_x = np.random.uniform(size=n_samples) * 100\n",
    "    simple_fx = np.exp(-np.square(simple_x))\n",
    "    return np.mean(simple_fx) * 100, np.std(simple_fx, ddof=1)\n",
    "\n",
    "simple_pred, simple_mc_err = simple_sampling()\n",
    "print(\"For simple sampling, the estimate is {} and the MC error is {}\".format(simple_pred, simple_mc_err))"
   ]
  },
  {
   "cell_type": "code",
   "execution_count": 36,
   "metadata": {},
   "outputs": [],
   "source": [
    "# 3.1.2 Repeat 50 times and plot"
   ]
  },
  {
   "cell_type": "code",
   "execution_count": 37,
   "metadata": {},
   "outputs": [],
   "source": [
    "def repeated_sampling(n_iter=50, sampling=simple_sampling, n_samples=N_SAMPLES):\n",
    "    res = np.zeros(n_iter)\n",
    "    err = np.zeros(n_iter)\n",
    "\n",
    "    for i in range(n_iter):\n",
    "        res[i], err[i] = sampling(n_samples)\n",
    "        \n",
    "    plt.errorbar(np.arange(n_iter), res, yerr=err)\n",
    "    \n",
    "    return res, err"
   ]
  },
  {
   "cell_type": "code",
   "execution_count": 38,
   "metadata": {},
   "outputs": [
    {
     "data": {
      "text/plain": [
       "(array([0.8997107 , 0.97578358, 0.80596727, 0.85017453, 0.82266904,\n",
       "        0.93373801, 0.84852141, 0.94973356, 0.93858428, 0.98196312,\n",
       "        0.9026004 , 1.02144636, 0.9426699 , 0.68799148, 0.95220749,\n",
       "        0.94291396, 0.89584669, 0.89854783, 0.84336622, 0.93923157,\n",
       "        0.92117062, 0.89832288, 0.76668553, 0.91502787, 0.87617115,\n",
       "        0.81261752, 0.80854759, 0.86284433, 0.94046689, 0.97310769,\n",
       "        0.7893606 , 1.12178899, 0.69719182, 0.97569974, 0.86102809,\n",
       "        0.92616767, 0.9226059 , 0.94045212, 0.89121077, 0.85104619,\n",
       "        0.77702178, 0.67526322, 0.83101912, 0.89778111, 0.99753942,\n",
       "        0.81371226, 0.79623744, 0.84556214, 1.00288689, 0.79498285]),\n",
       " array([0.08061141, 0.08341855, 0.07418114, 0.07660076, 0.07605789,\n",
       "        0.08135313, 0.07648712, 0.08221853, 0.08118341, 0.08406587,\n",
       "        0.08019123, 0.08545321, 0.08291109, 0.06667824, 0.08106385,\n",
       "        0.08166222, 0.08054847, 0.07985051, 0.07600148, 0.08236099,\n",
       "        0.07898474, 0.07952122, 0.07184836, 0.07935855, 0.07976515,\n",
       "        0.075996  , 0.0737909 , 0.07656833, 0.08162908, 0.08280283,\n",
       "        0.07409298, 0.09110579, 0.07184193, 0.08423438, 0.0774517 ,\n",
       "        0.07906808, 0.08006749, 0.08026679, 0.07962317, 0.07593464,\n",
       "        0.07257056, 0.06725132, 0.07503389, 0.07968175, 0.08389687,\n",
       "        0.07532614, 0.07505545, 0.07665284, 0.08260262, 0.07400874]))"
      ]
     },
     "execution_count": 38,
     "metadata": {},
     "output_type": "execute_result"
    },
    {
     "data": {
      "image/png": "[encoded data removed]",
      "text/plain": [
       "<Figure size 432x288 with 1 Axes>"
      ]
     },
     "metadata": {
      "needs_background": "light"
     },
     "output_type": "display_data"
    }
   ],
   "source": [
    "repeated_sampling()"
   ]
  },
  {
   "cell_type": "code",
   "execution_count": 39,
   "metadata": {},
   "outputs": [],
   "source": [
    "# 3.1.3 Use importance sampling with prior ~ exp(-x) and compare\n",
    "\n",
    "def importance_sampling(n_samples=N_SAMPLES):\n",
    "    # Returns a tuple of the MC estimate and error\n",
    "    simple_u = np.random.uniform(size=n_samples)\n",
    "    simple_x = - np.log (1 - simple_u)\n",
    "    simple_fx = np.exp(- np.square(simple_x))\n",
    "    return np.mean(simple_fx), np.std(simple_fx)"
   ]
  },
  {
   "cell_type": "code",
   "execution_count": 28,
   "metadata": {},
   "outputs": [
    {
     "data": {
      "text/plain": [
       "(array([ 10.21636903,  10.4892216 ,   8.88740726,  10.85184613,\n",
       "         13.4567845 ,   7.60472382,   9.67224988, 262.14793255,\n",
       "        206.40561615,  13.79382508,  11.83674167,  15.92147801,\n",
       "          8.09182104,   9.54088813,  10.47804624,   9.53941683,\n",
       "          9.94250886,   9.48364672,   8.51153784,  18.16416436,\n",
       "          6.84224692,  15.98602112,   7.09314927,   9.08910059,\n",
       "         11.52650991,   8.75041779,  15.96022108,  10.63333451,\n",
       "         11.13805288,  10.17484344,   7.34038998,  18.97954555,\n",
       "        162.98307601,  10.2847667 ,  10.52968256,  10.41730577,\n",
       "         26.02799075,   7.55807567,  11.73164156,  19.01728693,\n",
       "          9.57730123,   8.85737676,   6.67303736,  15.60567612,\n",
       "         14.25438582,   7.82229706,  10.58660676,  10.66121292,\n",
       "         12.17869152,   8.10760508]),\n",
       " array([  249.973559  ,   186.32294538,    83.20395376,   179.06991083,\n",
       "          410.84689199,    58.19860832,   192.12286401, 24844.48212092,\n",
       "        19862.87566789,   317.77743513,   192.05585884,   648.28627681,\n",
       "          102.32726922,   161.62841374,   260.68817612,   115.34994714,\n",
       "          170.61247566,   125.88604872,    84.69541504,   945.97623383,\n",
       "           66.82974577,   877.89678036,    53.0550932 ,   109.01691851,\n",
       "          390.84176404,   108.60197073,   652.0774327 ,   160.86175299,\n",
       "          192.1881288 ,   150.677646  ,    78.95123249,   729.38499438,\n",
       "        15205.61161314,   165.72092903,   159.91739314,   174.4843894 ,\n",
       "         1770.81000881,    72.67302708,   248.14058953,  1088.51588554,\n",
       "          125.04852979,   135.87402743,    54.4834873 ,   506.6547498 ,\n",
       "          498.09192188,    70.02609816,   171.63800886,   266.93535171,\n",
       "          293.8996793 ,    99.52805695]))"
      ]
     },
     "execution_count": 28,
     "metadata": {},
     "output_type": "execute_result"
    },
    {
     "data": {
      "image/png": "[encoded data removed]",
      "text/plain": [
       "<Figure size 432x288 with 1 Axes>"
      ]
     },
     "metadata": {
      "needs_background": "light"
     },
     "output_type": "display_data"
    }
   ],
   "source": [
    "repeated_sampling(sampling=importance_sampling)"
   ]
  },
  {
   "cell_type": "code",
   "execution_count": 22,
   "metadata": {},
   "outputs": [],
   "source": [
    "def metropolis_alg(n_thermalization_steps=10000, n_mc_steps=2**18, delta=0.2):\n",
    "    def w_of_x(x):\n",
    "        if x < 0 or x >1:\n",
    "            return 0\n",
    "        \n",
    "        return np.exp(-x)\n",
    "    \n",
    "    def update(x):\n",
    "        cand = x + (np.random.uniform()-0.5)*2*delta\n",
    "\n",
    "        prob_ratio = w_of_x(cand)/w_of_x(x)\n",
    "        \n",
    "        if prob_ratio > 1 or np.random.uniform() < prob_ratio:\n",
    "            return cand\n",
    "        \n",
    "        return x\n",
    "    x = np.random.uniform()\n",
    "    samples = np.zeros(n_mc_steps)\n",
    "        \n",
    "    for t in range(n_thermalization_steps):\n",
    "        x = update(x)\n",
    "            \n",
    "    for t in range(n_mc_steps):\n",
    "        x = update(x)       \n",
    "        samples[t] = x\n",
    "        \n",
    "    return samples"
   ]
  },
  {
   "cell_type": "code",
   "execution_count": 65,
   "metadata": {},
   "outputs": [
    {
     "name": "stdout",
     "output_type": "stream",
     "text": [
      "True result: 0.632120558829\n",
      "MC result: 0.41534557786 with naive error 0.000549202547861\n"
     ]
    }
   ],
   "source": [
    "print('True result: {}'.format(1-np.exp(-1)))\n",
    "\n",
    "mc_samples = metropolis_alg()\n",
    "A = np.mean(mc_samples)\n",
    "delta_A_naive = np.std(mc_samples, ddof=1) / np.sqrt(mc_samples.size)\n",
    "print('MC result: {} with naive error {}'.format(A, delta_A_naive))"
   ]
  },
  {
   "cell_type": "code",
   "execution_count": null,
   "metadata": {},
   "outputs": [],
   "source": [
    "def binning_analysis(samples, stop_n_before=3):\n",
    "    bins = np.zeros(int(np.log2(samples.size))-stop_n_before)\n",
    "    binned = \n",
    "    bins[0] = np.std(binned, ddof=1)/ np.sqrt(binned.size) \n",
    "    \n",
    "    for i in range(1, bins.size):\n",
    "        binned = (binned + np.roll(binned, 1))[1::2]/2\n",
    "        bins[i] = np.std(binned, ddof=1) / np.sqrt(binned.size)\n",
    "        \n",
    "    return bins"
   ]
  },
  {
   "cell_type": "code",
   "execution_count": 59,
   "metadata": {},
   "outputs": [
    {
     "name": "stdout",
     "output_type": "stream",
     "text": [
      "True error: [0.00055085 0.00076616 0.00105802 0.0014352  0.00188327 0.00234995\n",
      " 0.00273485 0.0029952  0.00311366 0.00315537 0.00320825 0.00328488\n",
      " 0.00327721 0.00336995 0.00322319]\n"
     ]
    },
    {
     "data": {
      "text/plain": [
       "[<matplotlib.lines.Line2D at 0x11a128f90>]"
      ]
     },
     "execution_count": 59,
     "metadata": {},
     "output_type": "execute_result"
    },
    {
     "data": {
      "image/png": "[encoded data removed]",
      "text/plain": [
       "<Figure size 432x288 with 1 Axes>"
      ]
     },
     "metadata": {
      "needs_background": "light"
     },
     "output_type": "display_data"
    }
   ],
   "source": [
    "delta_A_true = binning_analysis(mc_samples)\n",
    "\n",
    "print(\"True error: {}\".format(delta_A_true))\n",
    "plt.plot(delta_A_true)"
   ]
  },
  {
   "cell_type": "code",
   "execution_count": null,
   "metadata": {},
   "outputs": [],
   "source": []
  }
 ],
 "metadata": {
  "kernelspec": {
   "display_name": "Python 3",
   "language": "python",
   "name": "python3"
  },
  "language_info": {
   "codemirror_mode": {
    "name": "ipython",
    "version": 2
   },
   "file_extension": ".py",
   "mimetype": "text/x-python",
   "name": "python",
   "nbconvert_exporter": "python",
   "pygments_lexer": "ipython2",
   "version": "2.7.15"
  }
 },
 "nbformat": 4,
 "nbformat_minor": 2
}
